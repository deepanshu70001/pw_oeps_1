{
 "cells": [
  {
   "cell_type": "markdown",
   "id": "82d89a04-e674-4d4d-86f5-2f60ca0b9c73",
   "metadata": {},
   "source": [
    "q1 )\n",
    "\n",
    "class is defined as blueprint for differnt object , it specify the behavior, function , operation of object\n",
    "class can be inbuild or userdefined\n",
    "\n",
    "object are variable , instant of that class and store values in it\n",
    "\n",
    "\n",
    "for eg car is a car with character 4 wheels , seats etc but a specific car is a object that belong to class car\n",
    "\n"
   ]
  },
  {
   "cell_type": "markdown",
   "id": "e7500038-25c8-4a49-83cf-6540769c933a",
   "metadata": {},
   "source": [
    "q2)\n",
    "\n",
    "1 inheritance\n",
    "\n",
    "2 encapsulation\n",
    "\n",
    "3 abstraction\n",
    "\n",
    "4 polymorphism"
   ]
  },
  {
   "cell_type": "markdown",
   "id": "2cad5619-069e-4cb7-88ae-b8019f9ea62c",
   "metadata": {},
   "source": [
    "q3)\n",
    "__init__ is a function  use to initialise a instance it can be use to store data in a instance , do userbased task automaticaly while defining a instance"
   ]
  },
  {
   "cell_type": "markdown",
   "id": "9135bff9-bbd2-4def-981b-e1c5c7c31dd5",
   "metadata": {},
   "source": [
    "q4)\n",
    "self represent instance of class and  is use to aceess data of object in function of class \n"
   ]
  },
  {
   "cell_type": "code",
   "execution_count": 31,
   "id": "1431a482-28e3-4ee9-8218-b116fe439769",
   "metadata": {},
   "outputs": [],
   "source": [
    "#q5 ) inheritance help in using function of one class to another and reduce complexity and storage consumtion  of the code\n",
    "class test:\n",
    "    def print_messege(self):\n",
    "        print(\"hi\")"
   ]
  },
  {
   "cell_type": "code",
   "execution_count": 32,
   "id": "087c24ab-8f5c-416d-9acd-854d0ae2baf8",
   "metadata": {},
   "outputs": [],
   "source": [
    "class test1(test):\n",
    "    pass"
   ]
  },
  {
   "cell_type": "code",
   "execution_count": 33,
   "id": "f946c719-2fc5-4b1c-8ba7-ee3bf8e75d67",
   "metadata": {},
   "outputs": [],
   "source": [
    "t=test1()\n"
   ]
  },
  {
   "cell_type": "code",
   "execution_count": 35,
   "id": "9691016c-9a4e-4ea1-aafb-d01c43a47212",
   "metadata": {},
   "outputs": [
    {
     "name": "stdout",
     "output_type": "stream",
     "text": [
      "hi\n"
     ]
    }
   ],
   "source": [
    "t.print_messege()\n"
   ]
  },
  {
   "cell_type": "code",
   "execution_count": null,
   "id": "3af72a23-c692-467e-a7ae-9d2357e60480",
   "metadata": {},
   "outputs": [],
   "source": []
  }
 ],
 "metadata": {
  "kernelspec": {
   "display_name": "Python 3 (ipykernel)",
   "language": "python",
   "name": "python3"
  },
  "language_info": {
   "codemirror_mode": {
    "name": "ipython",
    "version": 3
   },
   "file_extension": ".py",
   "mimetype": "text/x-python",
   "name": "python",
   "nbconvert_exporter": "python",
   "pygments_lexer": "ipython3",
   "version": "3.10.8"
  }
 },
 "nbformat": 4,
 "nbformat_minor": 5
}
